{
 "cells": [
  {
   "cell_type": "markdown",
   "id": "217e75f3",
   "metadata": {},
   "source": [
    "# Evil Geniuses - Data Analytics Intern Assessment "
   ]
  },
  {
   "cell_type": "markdown",
   "id": "0080c243",
   "metadata": {},
   "source": [
    "### Simple Pre-Processing and EDA"
   ]
  },
  {
   "cell_type": "code",
   "execution_count": 1,
   "id": "9b9f4724",
   "metadata": {},
   "outputs": [],
   "source": [
    "#pip install pandas-profiling"
   ]
  },
  {
   "cell_type": "code",
   "execution_count": 2,
   "id": "9c45a216",
   "metadata": {},
   "outputs": [
    {
     "name": "stderr",
     "output_type": "stream",
     "text": [
      "<ipython-input-2-12dc4b8ddfc2>:2: DeprecationWarning: `import pandas_profiling` is going to be deprecated by April 1st. Please use `import ydata_profiling` instead.\n",
      "  import pandas_profiling as pp\n"
     ]
    }
   ],
   "source": [
    "import pandas as pd \n",
    "import pandas_profiling as pp\n",
    "import numpy as np\n",
    "from scipy.stats import norm\n",
    "import matplotlib.pyplot as plt"
   ]
  },
  {
   "cell_type": "code",
   "execution_count": 3,
   "id": "daa89bbe",
   "metadata": {},
   "outputs": [
    {
     "data": {
      "text/plain": [
       "3479"
      ]
     },
     "execution_count": 3,
     "metadata": {},
     "output_type": "execute_result"
    }
   ],
   "source": [
    "df = pd.read_excel('/Users/yuniverse/Downloads/social_data.xlsx')\n",
    "len(df)"
   ]
  },
  {
   "cell_type": "code",
   "execution_count": 4,
   "id": "ee9d164f",
   "metadata": {},
   "outputs": [
    {
     "data": {
      "text/plain": [
       "47"
      ]
     },
     "execution_count": 4,
     "metadata": {},
     "output_type": "execute_result"
    }
   ],
   "source": [
    "#check duplicated rows\n",
    "duplicated_rows = df[df.duplicated()]\n",
    "len(duplicated_rows)"
   ]
  },
  {
   "cell_type": "code",
   "execution_count": 5,
   "id": "48f9e5b5",
   "metadata": {},
   "outputs": [],
   "source": [
    "#drop duplicated rows \n",
    "df= df.drop_duplicates(keep = 'first')"
   ]
  },
  {
   "cell_type": "code",
   "execution_count": 6,
   "id": "f5ce764d",
   "metadata": {},
   "outputs": [
    {
     "data": {
      "text/plain": [
       "3432"
      ]
     },
     "execution_count": 6,
     "metadata": {},
     "output_type": "execute_result"
    }
   ],
   "source": [
    "len(df)"
   ]
  },
  {
   "cell_type": "code",
   "execution_count": 7,
   "id": "0a8d4111",
   "metadata": {},
   "outputs": [
    {
     "data": {
      "text/html": [
       "<div>\n",
       "<style scoped>\n",
       "    .dataframe tbody tr th:only-of-type {\n",
       "        vertical-align: middle;\n",
       "    }\n",
       "\n",
       "    .dataframe tbody tr th {\n",
       "        vertical-align: top;\n",
       "    }\n",
       "\n",
       "    .dataframe thead th {\n",
       "        text-align: right;\n",
       "    }\n",
       "</style>\n",
       "<table border=\"1\" class=\"dataframe\">\n",
       "  <thead>\n",
       "    <tr style=\"text-align: right;\">\n",
       "      <th></th>\n",
       "      <th>Published Date</th>\n",
       "      <th>Account</th>\n",
       "      <th>Account Type</th>\n",
       "      <th>Campaign Name</th>\n",
       "      <th>Total Impressions</th>\n",
       "      <th>Total Engagements</th>\n",
       "      <th>Media Type</th>\n",
       "    </tr>\n",
       "  </thead>\n",
       "  <tbody>\n",
       "    <tr>\n",
       "      <th>0</th>\n",
       "      <td>2023-03-31 19:55:43.192</td>\n",
       "      <td>CSGO</td>\n",
       "      <td>TWITTER</td>\n",
       "      <td>N/A</td>\n",
       "      <td>0</td>\n",
       "      <td>0</td>\n",
       "      <td>Text</td>\n",
       "    </tr>\n",
       "    <tr>\n",
       "      <th>1</th>\n",
       "      <td>2023-03-31 19:49:35.243</td>\n",
       "      <td>CSGO</td>\n",
       "      <td>TWITTER</td>\n",
       "      <td>N/A</td>\n",
       "      <td>0</td>\n",
       "      <td>0</td>\n",
       "      <td>Text</td>\n",
       "    </tr>\n",
       "    <tr>\n",
       "      <th>2</th>\n",
       "      <td>2023-03-31 19:49:33.535</td>\n",
       "      <td>CSGO</td>\n",
       "      <td>TWITTER</td>\n",
       "      <td>N/A</td>\n",
       "      <td>0</td>\n",
       "      <td>0</td>\n",
       "      <td>Text</td>\n",
       "    </tr>\n",
       "    <tr>\n",
       "      <th>3</th>\n",
       "      <td>2023-03-31 19:49:31.583</td>\n",
       "      <td>CSGO</td>\n",
       "      <td>TWITTER</td>\n",
       "      <td>N/A</td>\n",
       "      <td>0</td>\n",
       "      <td>0</td>\n",
       "      <td>Text</td>\n",
       "    </tr>\n",
       "    <tr>\n",
       "      <th>4</th>\n",
       "      <td>2023-03-31 19:43:42.590</td>\n",
       "      <td>CSGO</td>\n",
       "      <td>TWITTER</td>\n",
       "      <td>Community Engagement</td>\n",
       "      <td>9517</td>\n",
       "      <td>1215</td>\n",
       "      <td>Video</td>\n",
       "    </tr>\n",
       "  </tbody>\n",
       "</table>\n",
       "</div>"
      ],
      "text/plain": [
       "           Published Date Account Account Type          Campaign Name  \\\n",
       "0 2023-03-31 19:55:43.192    CSGO      TWITTER                   N/A    \n",
       "1 2023-03-31 19:49:35.243    CSGO      TWITTER                   N/A    \n",
       "2 2023-03-31 19:49:33.535    CSGO      TWITTER                   N/A    \n",
       "3 2023-03-31 19:49:31.583    CSGO      TWITTER                   N/A    \n",
       "4 2023-03-31 19:43:42.590    CSGO      TWITTER  Community Engagement    \n",
       "\n",
       "   Total Impressions  Total Engagements Media Type  \n",
       "0                  0                  0       Text  \n",
       "1                  0                  0       Text  \n",
       "2                  0                  0       Text  \n",
       "3                  0                  0       Text  \n",
       "4               9517               1215      Video  "
      ]
     },
     "execution_count": 7,
     "metadata": {},
     "output_type": "execute_result"
    }
   ],
   "source": [
    "df.head()"
   ]
  },
  {
   "cell_type": "code",
   "execution_count": 8,
   "id": "01931cd3",
   "metadata": {},
   "outputs": [
    {
     "data": {
      "text/html": [
       "<div>\n",
       "<style scoped>\n",
       "    .dataframe tbody tr th:only-of-type {\n",
       "        vertical-align: middle;\n",
       "    }\n",
       "\n",
       "    .dataframe tbody tr th {\n",
       "        vertical-align: top;\n",
       "    }\n",
       "\n",
       "    .dataframe thead th {\n",
       "        text-align: right;\n",
       "    }\n",
       "</style>\n",
       "<table border=\"1\" class=\"dataframe\">\n",
       "  <thead>\n",
       "    <tr style=\"text-align: right;\">\n",
       "      <th></th>\n",
       "      <th>Published Date</th>\n",
       "      <th>Account</th>\n",
       "      <th>Account Type</th>\n",
       "      <th>Campaign Name</th>\n",
       "      <th>Total Impressions</th>\n",
       "      <th>Total Engagements</th>\n",
       "      <th>Media Type</th>\n",
       "    </tr>\n",
       "  </thead>\n",
       "  <tbody>\n",
       "    <tr>\n",
       "      <th>167</th>\n",
       "      <td>2023-03-29 11:01:11.963</td>\n",
       "      <td>General</td>\n",
       "      <td>LINKEDIN_COMPANY</td>\n",
       "      <td>Community Engagement</td>\n",
       "      <td>888</td>\n",
       "      <td>23</td>\n",
       "      <td>Video</td>\n",
       "    </tr>\n",
       "    <tr>\n",
       "      <th>379</th>\n",
       "      <td>2023-03-24 17:57:00.799</td>\n",
       "      <td>General</td>\n",
       "      <td>LINKEDIN_COMPANY</td>\n",
       "      <td>Community Engagement</td>\n",
       "      <td>933</td>\n",
       "      <td>16</td>\n",
       "      <td>Photo</td>\n",
       "    </tr>\n",
       "    <tr>\n",
       "      <th>381</th>\n",
       "      <td>2023-03-24 13:54:50.669</td>\n",
       "      <td>General</td>\n",
       "      <td>LINKEDIN_COMPANY</td>\n",
       "      <td>Community Engagement</td>\n",
       "      <td>2026</td>\n",
       "      <td>48</td>\n",
       "      <td>Video</td>\n",
       "    </tr>\n",
       "    <tr>\n",
       "      <th>382</th>\n",
       "      <td>2023-03-24 13:54:17.193</td>\n",
       "      <td>General</td>\n",
       "      <td>LINKEDIN_COMPANY</td>\n",
       "      <td>Community Engagement</td>\n",
       "      <td>917</td>\n",
       "      <td>12</td>\n",
       "      <td>Photo</td>\n",
       "    </tr>\n",
       "    <tr>\n",
       "      <th>420</th>\n",
       "      <td>2023-03-23 13:39:18.562</td>\n",
       "      <td>General</td>\n",
       "      <td>LINKEDIN_COMPANY</td>\n",
       "      <td>Evil Exhibited</td>\n",
       "      <td>3859</td>\n",
       "      <td>124</td>\n",
       "      <td>Link</td>\n",
       "    </tr>\n",
       "    <tr>\n",
       "      <th>472</th>\n",
       "      <td>2023-03-22 10:59:24.126</td>\n",
       "      <td>General</td>\n",
       "      <td>LINKEDIN_COMPANY</td>\n",
       "      <td>Community Engagement</td>\n",
       "      <td>2046</td>\n",
       "      <td>45</td>\n",
       "      <td>Photo</td>\n",
       "    </tr>\n",
       "    <tr>\n",
       "      <th>611</th>\n",
       "      <td>2023-03-17 12:17:44.202</td>\n",
       "      <td>General</td>\n",
       "      <td>LINKEDIN_COMPANY</td>\n",
       "      <td>Community Engagement</td>\n",
       "      <td>3358</td>\n",
       "      <td>133</td>\n",
       "      <td>Photo</td>\n",
       "    </tr>\n",
       "    <tr>\n",
       "      <th>719</th>\n",
       "      <td>2023-03-14 14:11:42.472</td>\n",
       "      <td>General</td>\n",
       "      <td>LINKEDIN_COMPANY</td>\n",
       "      <td>Community Engagement</td>\n",
       "      <td>1433</td>\n",
       "      <td>27</td>\n",
       "      <td>Photo</td>\n",
       "    </tr>\n",
       "    <tr>\n",
       "      <th>725</th>\n",
       "      <td>2023-03-14 13:52:30.468</td>\n",
       "      <td>General</td>\n",
       "      <td>LINKEDIN_COMPANY</td>\n",
       "      <td>Community Engagement</td>\n",
       "      <td>2754</td>\n",
       "      <td>42</td>\n",
       "      <td>Photo</td>\n",
       "    </tr>\n",
       "    <tr>\n",
       "      <th>760</th>\n",
       "      <td>2023-03-13 11:30:55.161</td>\n",
       "      <td>General</td>\n",
       "      <td>LINKEDIN_COMPANY</td>\n",
       "      <td>Community Engagement</td>\n",
       "      <td>1593</td>\n",
       "      <td>33</td>\n",
       "      <td>Photo</td>\n",
       "    </tr>\n",
       "    <tr>\n",
       "      <th>901</th>\n",
       "      <td>2023-03-09 07:11:10.049</td>\n",
       "      <td>General</td>\n",
       "      <td>LINKEDIN_COMPANY</td>\n",
       "      <td>Community Engagement</td>\n",
       "      <td>1571</td>\n",
       "      <td>20</td>\n",
       "      <td>Text</td>\n",
       "    </tr>\n",
       "    <tr>\n",
       "      <th>919</th>\n",
       "      <td>2023-03-08 10:00:06.767</td>\n",
       "      <td>General</td>\n",
       "      <td>LINKEDIN_COMPANY</td>\n",
       "      <td>Community Engagement</td>\n",
       "      <td>1161</td>\n",
       "      <td>32</td>\n",
       "      <td>Photo</td>\n",
       "    </tr>\n",
       "    <tr>\n",
       "      <th>928</th>\n",
       "      <td>2023-03-07 11:39:39.244</td>\n",
       "      <td>General</td>\n",
       "      <td>LINKEDIN_COMPANY</td>\n",
       "      <td>Community Engagement</td>\n",
       "      <td>1703</td>\n",
       "      <td>40</td>\n",
       "      <td>Link</td>\n",
       "    </tr>\n",
       "    <tr>\n",
       "      <th>1147</th>\n",
       "      <td>2023-03-02 12:00:06.734</td>\n",
       "      <td>General</td>\n",
       "      <td>LINKEDIN_COMPANY</td>\n",
       "      <td>Community Engagement</td>\n",
       "      <td>961</td>\n",
       "      <td>16</td>\n",
       "      <td>Photo</td>\n",
       "    </tr>\n",
       "    <tr>\n",
       "      <th>1186</th>\n",
       "      <td>2023-03-01 09:00:01.611</td>\n",
       "      <td>General</td>\n",
       "      <td>LINKEDIN_COMPANY</td>\n",
       "      <td>Community Engagement</td>\n",
       "      <td>2190</td>\n",
       "      <td>30</td>\n",
       "      <td>Link</td>\n",
       "    </tr>\n",
       "    <tr>\n",
       "      <th>1912</th>\n",
       "      <td>2023-02-16 09:00:07.519</td>\n",
       "      <td>General</td>\n",
       "      <td>LINKEDIN_COMPANY</td>\n",
       "      <td>Community Engagement</td>\n",
       "      <td>2224</td>\n",
       "      <td>33</td>\n",
       "      <td>Photo</td>\n",
       "    </tr>\n",
       "    <tr>\n",
       "      <th>2403</th>\n",
       "      <td>2023-02-08 08:22:39.174</td>\n",
       "      <td>General</td>\n",
       "      <td>LINKEDIN_COMPANY</td>\n",
       "      <td>Community Engagement</td>\n",
       "      <td>2476</td>\n",
       "      <td>17</td>\n",
       "      <td>Text</td>\n",
       "    </tr>\n",
       "    <tr>\n",
       "      <th>2545</th>\n",
       "      <td>2023-02-02 16:30:05.976</td>\n",
       "      <td>General</td>\n",
       "      <td>LINKEDIN_COMPANY</td>\n",
       "      <td>Community Engagement</td>\n",
       "      <td>1731</td>\n",
       "      <td>13</td>\n",
       "      <td>Photo</td>\n",
       "    </tr>\n",
       "    <tr>\n",
       "      <th>2584</th>\n",
       "      <td>2023-02-01 15:00:07.593</td>\n",
       "      <td>General</td>\n",
       "      <td>LINKEDIN_COMPANY</td>\n",
       "      <td>Community Engagement</td>\n",
       "      <td>1111</td>\n",
       "      <td>17</td>\n",
       "      <td>Photo</td>\n",
       "    </tr>\n",
       "    <tr>\n",
       "      <th>3260</th>\n",
       "      <td>2023-01-17 12:00:05.614</td>\n",
       "      <td>General</td>\n",
       "      <td>LINKEDIN_COMPANY</td>\n",
       "      <td>N/A</td>\n",
       "      <td>5270</td>\n",
       "      <td>121</td>\n",
       "      <td>Photo</td>\n",
       "    </tr>\n",
       "    <tr>\n",
       "      <th>3345</th>\n",
       "      <td>2023-01-12 09:23:30.099</td>\n",
       "      <td>General</td>\n",
       "      <td>LINKEDIN_COMPANY</td>\n",
       "      <td>N/A</td>\n",
       "      <td>1176</td>\n",
       "      <td>0</td>\n",
       "      <td>Text</td>\n",
       "    </tr>\n",
       "    <tr>\n",
       "      <th>3368</th>\n",
       "      <td>2023-01-11 09:10:05.548</td>\n",
       "      <td>General</td>\n",
       "      <td>LINKEDIN_COMPANY</td>\n",
       "      <td>N/A</td>\n",
       "      <td>1420</td>\n",
       "      <td>7</td>\n",
       "      <td>Text</td>\n",
       "    </tr>\n",
       "  </tbody>\n",
       "</table>\n",
       "</div>"
      ],
      "text/plain": [
       "              Published Date  Account      Account Type  \\\n",
       "167  2023-03-29 11:01:11.963  General  LINKEDIN_COMPANY   \n",
       "379  2023-03-24 17:57:00.799  General  LINKEDIN_COMPANY   \n",
       "381  2023-03-24 13:54:50.669  General  LINKEDIN_COMPANY   \n",
       "382  2023-03-24 13:54:17.193  General  LINKEDIN_COMPANY   \n",
       "420  2023-03-23 13:39:18.562  General  LINKEDIN_COMPANY   \n",
       "472  2023-03-22 10:59:24.126  General  LINKEDIN_COMPANY   \n",
       "611  2023-03-17 12:17:44.202  General  LINKEDIN_COMPANY   \n",
       "719  2023-03-14 14:11:42.472  General  LINKEDIN_COMPANY   \n",
       "725  2023-03-14 13:52:30.468  General  LINKEDIN_COMPANY   \n",
       "760  2023-03-13 11:30:55.161  General  LINKEDIN_COMPANY   \n",
       "901  2023-03-09 07:11:10.049  General  LINKEDIN_COMPANY   \n",
       "919  2023-03-08 10:00:06.767  General  LINKEDIN_COMPANY   \n",
       "928  2023-03-07 11:39:39.244  General  LINKEDIN_COMPANY   \n",
       "1147 2023-03-02 12:00:06.734  General  LINKEDIN_COMPANY   \n",
       "1186 2023-03-01 09:00:01.611  General  LINKEDIN_COMPANY   \n",
       "1912 2023-02-16 09:00:07.519  General  LINKEDIN_COMPANY   \n",
       "2403 2023-02-08 08:22:39.174  General  LINKEDIN_COMPANY   \n",
       "2545 2023-02-02 16:30:05.976  General  LINKEDIN_COMPANY   \n",
       "2584 2023-02-01 15:00:07.593  General  LINKEDIN_COMPANY   \n",
       "3260 2023-01-17 12:00:05.614  General  LINKEDIN_COMPANY   \n",
       "3345 2023-01-12 09:23:30.099  General  LINKEDIN_COMPANY   \n",
       "3368 2023-01-11 09:10:05.548  General  LINKEDIN_COMPANY   \n",
       "\n",
       "              Campaign Name  Total Impressions  Total Engagements Media Type  \n",
       "167   Community Engagement                 888                 23      Video  \n",
       "379   Community Engagement                 933                 16      Photo  \n",
       "381   Community Engagement                2026                 48      Video  \n",
       "382   Community Engagement                 917                 12      Photo  \n",
       "420         Evil Exhibited                3859                124       Link  \n",
       "472   Community Engagement                2046                 45      Photo  \n",
       "611   Community Engagement                3358                133      Photo  \n",
       "719   Community Engagement                1433                 27      Photo  \n",
       "725   Community Engagement                2754                 42      Photo  \n",
       "760   Community Engagement                1593                 33      Photo  \n",
       "901   Community Engagement                1571                 20       Text  \n",
       "919   Community Engagement                1161                 32      Photo  \n",
       "928   Community Engagement                1703                 40       Link  \n",
       "1147  Community Engagement                 961                 16      Photo  \n",
       "1186  Community Engagement                2190                 30       Link  \n",
       "1912  Community Engagement                2224                 33      Photo  \n",
       "2403  Community Engagement                2476                 17       Text  \n",
       "2545  Community Engagement                1731                 13      Photo  \n",
       "2584  Community Engagement                1111                 17      Photo  \n",
       "3260                   N/A                5270                121      Photo  \n",
       "3345                   N/A                1176                  0       Text  \n",
       "3368                   N/A                1420                  7       Text  "
      ]
     },
     "execution_count": 8,
     "metadata": {},
     "output_type": "execute_result"
    }
   ],
   "source": [
    "df[df.Account == 'General']"
   ]
  },
  {
   "cell_type": "code",
   "execution_count": 9,
   "id": "512463de",
   "metadata": {},
   "outputs": [
    {
     "data": {
      "text/plain": [
       "Published Date       datetime64[ns]\n",
       "Account                      object\n",
       "Account Type                 object\n",
       "Campaign Name                object\n",
       "Total Impressions             int64\n",
       "Total Engagements             int64\n",
       "Media Type                   object\n",
       "dtype: object"
      ]
     },
     "execution_count": 9,
     "metadata": {},
     "output_type": "execute_result"
    }
   ],
   "source": [
    "df.dtypes"
   ]
  },
  {
   "cell_type": "code",
   "execution_count": 10,
   "id": "336eab02",
   "metadata": {},
   "outputs": [],
   "source": [
    "#profile = pp.ProfileReport(df)\n",
    "#profile.to_file(\"/Users/yuniverse/Downloads/output.html\") # basic EDA Report file "
   ]
  },
  {
   "cell_type": "markdown",
   "id": "326a3073",
   "metadata": {},
   "source": [
    "# <span style='color: black'> Question 1: What is the typical engagement rate we can expect? What’s the likelihood that we can achieve a 15% engagement rate? </span>"
   ]
  },
  {
   "cell_type": "code",
   "execution_count": 11,
   "id": "f791e83c",
   "metadata": {},
   "outputs": [
    {
     "data": {
      "text/html": [
       "<div>\n",
       "<style scoped>\n",
       "    .dataframe tbody tr th:only-of-type {\n",
       "        vertical-align: middle;\n",
       "    }\n",
       "\n",
       "    .dataframe tbody tr th {\n",
       "        vertical-align: top;\n",
       "    }\n",
       "\n",
       "    .dataframe thead th {\n",
       "        text-align: right;\n",
       "    }\n",
       "</style>\n",
       "<table border=\"1\" class=\"dataframe\">\n",
       "  <thead>\n",
       "    <tr style=\"text-align: right;\">\n",
       "      <th></th>\n",
       "      <th>Published Date</th>\n",
       "      <th>Account</th>\n",
       "      <th>Account Type</th>\n",
       "      <th>Campaign Name</th>\n",
       "      <th>Total Impressions</th>\n",
       "      <th>Total Engagements</th>\n",
       "      <th>Media Type</th>\n",
       "      <th>Engagement rate</th>\n",
       "    </tr>\n",
       "  </thead>\n",
       "  <tbody>\n",
       "    <tr>\n",
       "      <th>4</th>\n",
       "      <td>2023-03-31 19:43:42.590</td>\n",
       "      <td>CSGO</td>\n",
       "      <td>TWITTER</td>\n",
       "      <td>Community Engagement</td>\n",
       "      <td>9517</td>\n",
       "      <td>1215</td>\n",
       "      <td>Video</td>\n",
       "      <td>12.766628</td>\n",
       "    </tr>\n",
       "    <tr>\n",
       "      <th>6</th>\n",
       "      <td>2023-03-31 19:40:57.383</td>\n",
       "      <td>CSGO</td>\n",
       "      <td>TWITTER</td>\n",
       "      <td>Community Engagement</td>\n",
       "      <td>1882</td>\n",
       "      <td>83</td>\n",
       "      <td>Photo</td>\n",
       "      <td>4.410202</td>\n",
       "    </tr>\n",
       "    <tr>\n",
       "      <th>7</th>\n",
       "      <td>2023-03-31 19:23:57.349</td>\n",
       "      <td>CSGO</td>\n",
       "      <td>TWITTER</td>\n",
       "      <td>Community Engagement</td>\n",
       "      <td>17892</td>\n",
       "      <td>3076</td>\n",
       "      <td>Video</td>\n",
       "      <td>17.192041</td>\n",
       "    </tr>\n",
       "    <tr>\n",
       "      <th>9</th>\n",
       "      <td>2023-03-31 18:55:51.855</td>\n",
       "      <td>CSGO</td>\n",
       "      <td>TWITTER</td>\n",
       "      <td>Community Engagement</td>\n",
       "      <td>13874</td>\n",
       "      <td>1447</td>\n",
       "      <td>Video</td>\n",
       "      <td>10.429581</td>\n",
       "    </tr>\n",
       "    <tr>\n",
       "      <th>10</th>\n",
       "      <td>2023-03-31 18:36:01.000</td>\n",
       "      <td>General</td>\n",
       "      <td>FBPAGE</td>\n",
       "      <td>Community Engagement</td>\n",
       "      <td>37692</td>\n",
       "      <td>8044</td>\n",
       "      <td>Photo</td>\n",
       "      <td>21.341399</td>\n",
       "    </tr>\n",
       "  </tbody>\n",
       "</table>\n",
       "</div>"
      ],
      "text/plain": [
       "            Published Date   Account Account Type          Campaign Name  \\\n",
       "4  2023-03-31 19:43:42.590      CSGO      TWITTER  Community Engagement    \n",
       "6  2023-03-31 19:40:57.383      CSGO      TWITTER  Community Engagement    \n",
       "7  2023-03-31 19:23:57.349      CSGO      TWITTER  Community Engagement    \n",
       "9  2023-03-31 18:55:51.855      CSGO      TWITTER  Community Engagement    \n",
       "10 2023-03-31 18:36:01.000  General        FBPAGE  Community Engagement    \n",
       "\n",
       "    Total Impressions  Total Engagements Media Type  Engagement rate  \n",
       "4                9517               1215      Video        12.766628  \n",
       "6                1882                 83      Photo         4.410202  \n",
       "7               17892               3076      Video        17.192041  \n",
       "9               13874               1447      Video        10.429581  \n",
       "10              37692               8044      Photo        21.341399  "
      ]
     },
     "execution_count": 11,
     "metadata": {},
     "output_type": "execute_result"
    }
   ],
   "source": [
    "df = df[df['Total Impressions'] !=0]\n",
    "\n",
    "df['Engagement rate'] = df['Total Engagements']/df['Total Impressions'] *100\n",
    "\n",
    "df.head()"
   ]
  },
  {
   "cell_type": "code",
   "execution_count": 12,
   "id": "a4035c93",
   "metadata": {},
   "outputs": [
    {
     "data": {
      "text/plain": [
       "0.000000     222\n",
       "2.150538       5\n",
       "1.388889       4\n",
       "3.225806       4\n",
       "5.000000       4\n",
       "            ... \n",
       "1.938537       1\n",
       "16.254015      1\n",
       "2.352509       1\n",
       "1.429550       1\n",
       "1.600800       1\n",
       "Name: Engagement rate, Length: 2420, dtype: int64"
      ]
     },
     "execution_count": 12,
     "metadata": {},
     "output_type": "execute_result"
    }
   ],
   "source": [
    "df['Engagement rate'].value_counts()"
   ]
  },
  {
   "cell_type": "code",
   "execution_count": 13,
   "id": "0b22d133",
   "metadata": {},
   "outputs": [
    {
     "name": "stdout",
     "output_type": "stream",
     "text": [
      "The typical engagement rate is :  8.513384643159984 %\n",
      "The likelihood of achieving a 15% engagement rate is: 0.08020603384841796\n"
     ]
    }
   ],
   "source": [
    "typical_engagement = (df['Total Engagements'].sum()/df['Total Impressions'].sum()) * 100\n",
    "print(\"The typical engagement rate is : \",typical_engagement,'%')\n",
    "likelihood = len(df[df['Engagement rate'] >=15])/len(df)\n",
    "print(\"The likelihood of achieving a 15% engagement rate is:\", likelihood)"
   ]
  },
  {
   "cell_type": "markdown",
   "id": "b51a5beb",
   "metadata": {},
   "source": [
    "### Answer 1: <br />The typical engagement rate is  <span style='color:green'> 8.5%</span>. The likelihood of achieving a 15% engagement rate is about  <span style='color:green'> 0.08</span>"
   ]
  },
  {
   "cell_type": "markdown",
   "id": "b28d08fb",
   "metadata": {},
   "source": [
    "# Question 2: Does day of the week and time of posting affect engagement rates?"
   ]
  },
  {
   "cell_type": "code",
   "execution_count": 14,
   "id": "afb28fd0",
   "metadata": {},
   "outputs": [
    {
     "data": {
      "image/png": "[encoded data removed]",
      "text/plain": [
       "<Figure size 1152x432 with 1 Axes>"
      ]
     },
     "metadata": {
      "needs_background": "light"
     },
     "output_type": "display_data"
    },
    {
     "data": {
      "image/png": "[encoded data removed]",
      "text/plain": [
       "<Figure size 1152x432 with 1 Axes>"
      ]
     },
     "metadata": {
      "needs_background": "light"
     },
     "output_type": "display_data"
    }
   ],
   "source": [
    "df['Published Date'] = pd.to_datetime(df['Published Date'])  # convert to datetime format\n",
    "df['Day of Week'] = df['Published Date'].dt.day_name()  # extract day of the week\n",
    "df['Time'] = df['Published Date'].dt.time  # extract time component\n",
    "df['Hour'] = df['Published Date'].dt.hour # extract hour component\n",
    "df['Time Group'] = pd.cut(df['Hour'], bins=range(0, 24, 2))\n",
    "\n",
    "# Explore engagement rates based on the day of the week\n",
    "engagement_by_day = df.groupby('Day of Week')['Total Engagements'].sum()/df.groupby('Day of Week')['Total Impressions'].sum()\n",
    "engagement_by_day.plot(kind='bar',figsize=(16, 6))\n",
    "\n",
    "plt.xlabel('Day of Week')\n",
    "plt.ylabel('Engagement Rate')\n",
    "plt.title('Engagement Rate by Day of Week')\n",
    "plt.show()\n",
    "\n",
    "# Explore engagement rates based on time of posting\n",
    "engagement_by_time = df.groupby(['Time Group'])['Total Engagements'].sum()/df.groupby(['Time Group'])['Total Impressions'].sum()\n",
    "engagement_by_time.plot(kind='bar', figsize=(16, 6))\n",
    "\n",
    "plt.xlabel('Time')\n",
    "plt.ylabel('Engagement Rate')\n",
    "plt.title('Engagement Rate by Time of Posting')\n",
    "plt.show()\n"
   ]
  },
  {
   "cell_type": "code",
   "execution_count": 15,
   "id": "2d168dac",
   "metadata": {},
   "outputs": [
    {
     "data": {
      "image/png": "[encoded data removed]",
      "text/plain": [
       "<Figure size 1152x864 with 1 Axes>"
      ]
     },
     "metadata": {
      "needs_background": "light"
     },
     "output_type": "display_data"
    }
   ],
   "source": [
    "\n",
    "# Calculate mean engagement rates by day of the week and time group\n",
    "engagement_by_time_group = df.groupby(['Day of Week', 'Time Group'])['Total Engagements'].sum()/df.groupby(['Day of Week','Time Group'])['Total Impressions'].sum()\n",
    "engagement_by_time_group = engagement_by_time_group.reset_index()\n",
    "\n",
    "fig, ax = plt.subplots(figsize=(16, 12)) # change the scale of the plot\n",
    "engagement_by_time_group.pivot('Time Group', 'Day of Week').plot(kind='bar', ax=ax)\n",
    "plt.xlabel('Time Group')\n",
    "plt.ylabel('Engagement Rate')\n",
    "plt.title('Engagement Rate by Day of Week and Time Group')\n",
    "plt.legend(title='Day of Week', bbox_to_anchor=(1, 1))\n",
    "plt.show()"
   ]
  },
  {
   "cell_type": "code",
   "execution_count": 16,
   "id": "54348561",
   "metadata": {},
   "outputs": [
    {
     "data": {
      "text/html": [
       "<div>\n",
       "<style scoped>\n",
       "    .dataframe tbody tr th:only-of-type {\n",
       "        vertical-align: middle;\n",
       "    }\n",
       "\n",
       "    .dataframe tbody tr th {\n",
       "        vertical-align: top;\n",
       "    }\n",
       "\n",
       "    .dataframe thead th {\n",
       "        text-align: right;\n",
       "    }\n",
       "</style>\n",
       "<table border=\"1\" class=\"dataframe\">\n",
       "  <thead>\n",
       "    <tr style=\"text-align: right;\">\n",
       "      <th></th>\n",
       "      <th>Day of Week</th>\n",
       "      <th>Time Group</th>\n",
       "      <th>Engagement Rate</th>\n",
       "    </tr>\n",
       "  </thead>\n",
       "  <tbody>\n",
       "    <tr>\n",
       "      <th>57</th>\n",
       "      <td>Tuesday</td>\n",
       "      <td>(4, 6]</td>\n",
       "      <td>0.371877</td>\n",
       "    </tr>\n",
       "  </tbody>\n",
       "</table>\n",
       "</div>"
      ],
      "text/plain": [
       "   Day of Week Time Group  Engagement Rate\n",
       "57     Tuesday     (4, 6]         0.371877"
      ]
     },
     "execution_count": 16,
     "metadata": {},
     "output_type": "execute_result"
    }
   ],
   "source": [
    "# take a look at the skyrocket-high value from the above plot \n",
    "engagement_by_time_group = engagement_by_time_group.rename(columns={0: 'Engagement Rate'})\n",
    "engagement_by_time_group[engagement_by_time_group['Engagement Rate'] ==engagement_by_time_group['Engagement Rate'].max()]"
   ]
  },
  {
   "cell_type": "markdown",
   "id": "7d7ce50f",
   "metadata": {},
   "source": [
    "#### As we can see, the pattern from the plots above showed that different days and time should effect the engagement rate. Now, we are going to apply statistical test to test out the relationship between these two indexes"
   ]
  },
  {
   "cell_type": "code",
   "execution_count": 17,
   "id": "00b56646",
   "metadata": {},
   "outputs": [],
   "source": [
    "engagement_by_time_group['Engagement Rate'] = engagement_by_time_group['Engagement Rate'].fillna(0)\n",
    "engagement_by_time_group.columns = ['Day_of_Week', 'Time_Group', 'Engagement_Rate']"
   ]
  },
  {
   "cell_type": "code",
   "execution_count": 18,
   "id": "01dea6d1",
   "metadata": {},
   "outputs": [
    {
     "data": {
      "text/html": [
       "<div>\n",
       "<style scoped>\n",
       "    .dataframe tbody tr th:only-of-type {\n",
       "        vertical-align: middle;\n",
       "    }\n",
       "\n",
       "    .dataframe tbody tr th {\n",
       "        vertical-align: top;\n",
       "    }\n",
       "\n",
       "    .dataframe thead th {\n",
       "        text-align: right;\n",
       "    }\n",
       "</style>\n",
       "<table border=\"1\" class=\"dataframe\">\n",
       "  <thead>\n",
       "    <tr style=\"text-align: right;\">\n",
       "      <th></th>\n",
       "      <th>Day_of_Week</th>\n",
       "      <th>Time_Group</th>\n",
       "      <th>Engagement_Rate</th>\n",
       "    </tr>\n",
       "  </thead>\n",
       "  <tbody>\n",
       "    <tr>\n",
       "      <th>0</th>\n",
       "      <td>Friday</td>\n",
       "      <td>(0, 2]</td>\n",
       "      <td>0.000000</td>\n",
       "    </tr>\n",
       "    <tr>\n",
       "      <th>1</th>\n",
       "      <td>Friday</td>\n",
       "      <td>(2, 4]</td>\n",
       "      <td>0.112266</td>\n",
       "    </tr>\n",
       "    <tr>\n",
       "      <th>2</th>\n",
       "      <td>Friday</td>\n",
       "      <td>(4, 6]</td>\n",
       "      <td>0.097793</td>\n",
       "    </tr>\n",
       "    <tr>\n",
       "      <th>3</th>\n",
       "      <td>Friday</td>\n",
       "      <td>(6, 8]</td>\n",
       "      <td>0.074793</td>\n",
       "    </tr>\n",
       "    <tr>\n",
       "      <th>4</th>\n",
       "      <td>Friday</td>\n",
       "      <td>(8, 10]</td>\n",
       "      <td>0.090449</td>\n",
       "    </tr>\n",
       "    <tr>\n",
       "      <th>...</th>\n",
       "      <td>...</td>\n",
       "      <td>...</td>\n",
       "      <td>...</td>\n",
       "    </tr>\n",
       "    <tr>\n",
       "      <th>72</th>\n",
       "      <td>Wednesday</td>\n",
       "      <td>(12, 14]</td>\n",
       "      <td>0.099969</td>\n",
       "    </tr>\n",
       "    <tr>\n",
       "      <th>73</th>\n",
       "      <td>Wednesday</td>\n",
       "      <td>(14, 16]</td>\n",
       "      <td>0.060039</td>\n",
       "    </tr>\n",
       "    <tr>\n",
       "      <th>74</th>\n",
       "      <td>Wednesday</td>\n",
       "      <td>(16, 18]</td>\n",
       "      <td>0.051944</td>\n",
       "    </tr>\n",
       "    <tr>\n",
       "      <th>75</th>\n",
       "      <td>Wednesday</td>\n",
       "      <td>(18, 20]</td>\n",
       "      <td>0.025979</td>\n",
       "    </tr>\n",
       "    <tr>\n",
       "      <th>76</th>\n",
       "      <td>Wednesday</td>\n",
       "      <td>(20, 22]</td>\n",
       "      <td>0.017941</td>\n",
       "    </tr>\n",
       "  </tbody>\n",
       "</table>\n",
       "<p>77 rows × 3 columns</p>\n",
       "</div>"
      ],
      "text/plain": [
       "   Day_of_Week Time_Group  Engagement_Rate\n",
       "0       Friday     (0, 2]         0.000000\n",
       "1       Friday     (2, 4]         0.112266\n",
       "2       Friday     (4, 6]         0.097793\n",
       "3       Friday     (6, 8]         0.074793\n",
       "4       Friday    (8, 10]         0.090449\n",
       "..         ...        ...              ...\n",
       "72   Wednesday   (12, 14]         0.099969\n",
       "73   Wednesday   (14, 16]         0.060039\n",
       "74   Wednesday   (16, 18]         0.051944\n",
       "75   Wednesday   (18, 20]         0.025979\n",
       "76   Wednesday   (20, 22]         0.017941\n",
       "\n",
       "[77 rows x 3 columns]"
      ]
     },
     "execution_count": 18,
     "metadata": {},
     "output_type": "execute_result"
    }
   ],
   "source": [
    "engagement_by_time_group"
   ]
  },
  {
   "cell_type": "code",
   "execution_count": 19,
   "id": "1bae45a0",
   "metadata": {},
   "outputs": [
    {
     "name": "stdout",
     "output_type": "stream",
     "text": [
      "Two-way ANOVA Results:\n",
      "                  sum_sq    df         F    PR(>F)\n",
      "C(Day_of_Week)  0.045107   6.0  2.364531  0.040756\n",
      "C(Time_Group)   0.076266  10.0  2.398708  0.018070\n",
      "Residual        0.190767  60.0       NaN       NaN\n"
     ]
    }
   ],
   "source": [
    "import statsmodels.api as sm # using ANOVA test out the statistical significance\n",
    "from statsmodels.formula.api import ols\n",
    "\n",
    "# Perform two-way ANOVA\n",
    "model = ols('Engagement_Rate ~ C(Day_of_Week) + C(Time_Group)', data=engagement_by_time_group).fit()\n",
    "anova_table = sm.stats.anova_lm(model, typ=2)\n",
    "\n",
    "print(\"Two-way ANOVA Results:\")\n",
    "print(anova_table)"
   ]
  },
  {
   "cell_type": "markdown",
   "id": "7d5d041d",
   "metadata": {},
   "source": [
    "#### we can see the P-values of both day of week and time group are smallar than 0.05. We can conclude that these two variables affect the engagement rate siginificantly "
   ]
  },
  {
   "cell_type": "markdown",
   "id": "7dc743eb",
   "metadata": {},
   "source": [
    "### Answer 2: <br /><span style='color:green'> Yes.</span> From the analysis result above, we conclude that day of the week and time of posting affect engagement rates."
   ]
  },
  {
   "cell_type": "markdown",
   "id": "e3453977",
   "metadata": {},
   "source": [
    "# Question 3: How are our game titles doing in terms of social performance? Is there a specific game we should focus more on or less?"
   ]
  },
  {
   "cell_type": "code",
   "execution_count": 20,
   "id": "5948eb40",
   "metadata": {},
   "outputs": [
    {
     "data": {
      "text/html": [
       "<div>\n",
       "<style scoped>\n",
       "    .dataframe tbody tr th:only-of-type {\n",
       "        vertical-align: middle;\n",
       "    }\n",
       "\n",
       "    .dataframe tbody tr th {\n",
       "        vertical-align: top;\n",
       "    }\n",
       "\n",
       "    .dataframe thead th {\n",
       "        text-align: right;\n",
       "    }\n",
       "</style>\n",
       "<table border=\"1\" class=\"dataframe\">\n",
       "  <thead>\n",
       "    <tr style=\"text-align: right;\">\n",
       "      <th></th>\n",
       "      <th>Published Date</th>\n",
       "      <th>Account</th>\n",
       "      <th>Account Type</th>\n",
       "      <th>Campaign Name</th>\n",
       "      <th>Total Impressions</th>\n",
       "      <th>Total Engagements</th>\n",
       "      <th>Media Type</th>\n",
       "      <th>Engagement rate</th>\n",
       "      <th>Day of Week</th>\n",
       "      <th>Time</th>\n",
       "      <th>Hour</th>\n",
       "      <th>Time Group</th>\n",
       "    </tr>\n",
       "  </thead>\n",
       "  <tbody>\n",
       "    <tr>\n",
       "      <th>4</th>\n",
       "      <td>2023-03-31 19:43:42.590</td>\n",
       "      <td>CSGO</td>\n",
       "      <td>TWITTER</td>\n",
       "      <td>Community Engagement</td>\n",
       "      <td>9517</td>\n",
       "      <td>1215</td>\n",
       "      <td>Video</td>\n",
       "      <td>12.766628</td>\n",
       "      <td>Friday</td>\n",
       "      <td>19:43:42.590000</td>\n",
       "      <td>19</td>\n",
       "      <td>(18, 20]</td>\n",
       "    </tr>\n",
       "    <tr>\n",
       "      <th>6</th>\n",
       "      <td>2023-03-31 19:40:57.383</td>\n",
       "      <td>CSGO</td>\n",
       "      <td>TWITTER</td>\n",
       "      <td>Community Engagement</td>\n",
       "      <td>1882</td>\n",
       "      <td>83</td>\n",
       "      <td>Photo</td>\n",
       "      <td>4.410202</td>\n",
       "      <td>Friday</td>\n",
       "      <td>19:40:57.383000</td>\n",
       "      <td>19</td>\n",
       "      <td>(18, 20]</td>\n",
       "    </tr>\n",
       "    <tr>\n",
       "      <th>7</th>\n",
       "      <td>2023-03-31 19:23:57.349</td>\n",
       "      <td>CSGO</td>\n",
       "      <td>TWITTER</td>\n",
       "      <td>Community Engagement</td>\n",
       "      <td>17892</td>\n",
       "      <td>3076</td>\n",
       "      <td>Video</td>\n",
       "      <td>17.192041</td>\n",
       "      <td>Friday</td>\n",
       "      <td>19:23:57.349000</td>\n",
       "      <td>19</td>\n",
       "      <td>(18, 20]</td>\n",
       "    </tr>\n",
       "    <tr>\n",
       "      <th>9</th>\n",
       "      <td>2023-03-31 18:55:51.855</td>\n",
       "      <td>CSGO</td>\n",
       "      <td>TWITTER</td>\n",
       "      <td>Community Engagement</td>\n",
       "      <td>13874</td>\n",
       "      <td>1447</td>\n",
       "      <td>Video</td>\n",
       "      <td>10.429581</td>\n",
       "      <td>Friday</td>\n",
       "      <td>18:55:51.855000</td>\n",
       "      <td>18</td>\n",
       "      <td>(16, 18]</td>\n",
       "    </tr>\n",
       "    <tr>\n",
       "      <th>10</th>\n",
       "      <td>2023-03-31 18:36:01.000</td>\n",
       "      <td>General</td>\n",
       "      <td>FBPAGE</td>\n",
       "      <td>Community Engagement</td>\n",
       "      <td>37692</td>\n",
       "      <td>8044</td>\n",
       "      <td>Photo</td>\n",
       "      <td>21.341399</td>\n",
       "      <td>Friday</td>\n",
       "      <td>18:36:01</td>\n",
       "      <td>18</td>\n",
       "      <td>(16, 18]</td>\n",
       "    </tr>\n",
       "  </tbody>\n",
       "</table>\n",
       "</div>"
      ],
      "text/plain": [
       "            Published Date   Account Account Type          Campaign Name  \\\n",
       "4  2023-03-31 19:43:42.590      CSGO      TWITTER  Community Engagement    \n",
       "6  2023-03-31 19:40:57.383      CSGO      TWITTER  Community Engagement    \n",
       "7  2023-03-31 19:23:57.349      CSGO      TWITTER  Community Engagement    \n",
       "9  2023-03-31 18:55:51.855      CSGO      TWITTER  Community Engagement    \n",
       "10 2023-03-31 18:36:01.000  General        FBPAGE  Community Engagement    \n",
       "\n",
       "    Total Impressions  Total Engagements Media Type  Engagement rate  \\\n",
       "4                9517               1215      Video        12.766628   \n",
       "6                1882                 83      Photo         4.410202   \n",
       "7               17892               3076      Video        17.192041   \n",
       "9               13874               1447      Video        10.429581   \n",
       "10              37692               8044      Photo        21.341399   \n",
       "\n",
       "   Day of Week             Time  Hour Time Group  \n",
       "4       Friday  19:43:42.590000    19   (18, 20]  \n",
       "6       Friday  19:40:57.383000    19   (18, 20]  \n",
       "7       Friday  19:23:57.349000    19   (18, 20]  \n",
       "9       Friday  18:55:51.855000    18   (16, 18]  \n",
       "10      Friday         18:36:01    18   (16, 18]  "
      ]
     },
     "execution_count": 20,
     "metadata": {},
     "output_type": "execute_result"
    }
   ],
   "source": [
    "df.head()"
   ]
  },
  {
   "cell_type": "code",
   "execution_count": 21,
   "id": "340330e6",
   "metadata": {},
   "outputs": [
    {
     "data": {
      "text/plain": [
       "General             1731\n",
       "DOTA2                698\n",
       "CSGO                 198\n",
       "Content Creators      35\n",
       "Valorant              34\n",
       "General               22\n",
       "Name: Account, dtype: int64"
      ]
     },
     "execution_count": 21,
     "metadata": {},
     "output_type": "execute_result"
    }
   ],
   "source": [
    "df['Account'].value_counts()"
   ]
  },
  {
   "cell_type": "code",
   "execution_count": 22,
   "id": "c334e591",
   "metadata": {},
   "outputs": [
    {
     "name": "stdout",
     "output_type": "stream",
     "text": [
      "['CSGO' 'General ' 'DOTA2' 'Content Creators' 'Valorant' 'General']\n"
     ]
    }
   ],
   "source": [
    "# we noticed that there are two unique values as 'General'\n",
    "unique_accounts = df['Account'].unique()\n",
    "print(unique_accounts)"
   ]
  },
  {
   "cell_type": "code",
   "execution_count": 23,
   "id": "02a0f907",
   "metadata": {},
   "outputs": [
    {
     "data": {
      "text/plain": [
       "(22, 22)"
      ]
     },
     "execution_count": 23,
     "metadata": {},
     "output_type": "execute_result"
    }
   ],
   "source": [
    "len(df[df['Account'] == 'General']), len(df[df['Account'] == 'General'])"
   ]
  },
  {
   "cell_type": "code",
   "execution_count": 24,
   "id": "938e52d9",
   "metadata": {},
   "outputs": [
    {
     "data": {
      "image/png": "[encoded data removed]",
      "text/plain": [
       "<Figure size 1152x432 with 1 Axes>"
      ]
     },
     "metadata": {
      "needs_background": "light"
     },
     "output_type": "display_data"
    }
   ],
   "source": [
    "engagement_by_campaign = df.groupby('Account')['Total Engagements'].sum()/df.groupby('Account')['Total Impressions'].sum()\n",
    "engagement_by_campaign.plot(kind='bar',figsize=(16, 6))\n",
    "\n",
    "plt.xlabel('Different Game Title(Account)')\n",
    "plt.ylabel('Engagement Rate')\n",
    "plt.title('Engagement Rate by different Game')\n",
    "plt.show()\n",
    "\n"
   ]
  },
  {
   "cell_type": "markdown",
   "id": "18cb7bc4",
   "metadata": {},
   "source": [
    "### Answer 3: <br /> As we can see from the visualization above, different game titles lead to different engagement rate. game titled <span style='color:green'>'General'</span> has the highest engagement rate. If 'General' is a game title, we should focus more on the game title with 'General'. If 'General' means a general category and no further information on the specific game title, we should focus more on  <span style='color:green'>'DOTA2' </span> since  'DOTA2' has the second highest engagement rate.\n"
   ]
  },
  {
   "cell_type": "markdown",
   "id": "e1880467",
   "metadata": {},
   "source": [
    "# Question 4: What media type performs the best?"
   ]
  },
  {
   "cell_type": "code",
   "execution_count": 25,
   "id": "8085dc68",
   "metadata": {},
   "outputs": [
    {
     "data": {
      "text/plain": [
       "Photo       1228\n",
       "Video        886\n",
       "Text         548\n",
       "Link          41\n",
       "Carousel       9\n",
       "Mixed          5\n",
       "Album          1\n",
       "Name: Media Type, dtype: int64"
      ]
     },
     "execution_count": 25,
     "metadata": {},
     "output_type": "execute_result"
    }
   ],
   "source": [
    "df['Media Type'].value_counts()"
   ]
  },
  {
   "cell_type": "code",
   "execution_count": 26,
   "id": "6a8fe084",
   "metadata": {},
   "outputs": [
    {
     "data": {
      "image/png": "[encoded data removed]",
      "text/plain": [
       "<Figure size 1152x432 with 1 Axes>"
      ]
     },
     "metadata": {
      "needs_background": "light"
     },
     "output_type": "display_data"
    }
   ],
   "source": [
    "engagement_by_campaign = df.groupby('Media Type')['Total Engagements'].sum()/df.groupby('Media Type')['Total Impressions'].sum()\n",
    "engagement_by_campaign.plot(kind='bar',figsize=(16, 6))\n",
    "\n",
    "plt.xlabel('Media Type')\n",
    "plt.ylabel('Engagement Rate')\n",
    "plt.title('Engagement Rate by Media Type')\n",
    "plt.show()"
   ]
  },
  {
   "cell_type": "markdown",
   "id": "5ab72e08",
   "metadata": {},
   "source": [
    "#### From the graph above, we found that 'Album' type has the best perfromance. But there are only 1 datapoint of the album category, the result could be biased."
   ]
  },
  {
   "cell_type": "code",
   "execution_count": 27,
   "id": "1215adac",
   "metadata": {},
   "outputs": [
    {
     "data": {
      "text/html": [
       "<div>\n",
       "<style scoped>\n",
       "    .dataframe tbody tr th:only-of-type {\n",
       "        vertical-align: middle;\n",
       "    }\n",
       "\n",
       "    .dataframe tbody tr th {\n",
       "        vertical-align: top;\n",
       "    }\n",
       "\n",
       "    .dataframe thead th {\n",
       "        text-align: right;\n",
       "    }\n",
       "</style>\n",
       "<table border=\"1\" class=\"dataframe\">\n",
       "  <thead>\n",
       "    <tr style=\"text-align: right;\">\n",
       "      <th></th>\n",
       "      <th>Published Date</th>\n",
       "      <th>Account</th>\n",
       "      <th>Account Type</th>\n",
       "      <th>Campaign Name</th>\n",
       "      <th>Total Impressions</th>\n",
       "      <th>Total Engagements</th>\n",
       "      <th>Media Type</th>\n",
       "      <th>Engagement rate</th>\n",
       "      <th>Day of Week</th>\n",
       "      <th>Time</th>\n",
       "      <th>Hour</th>\n",
       "      <th>Time Group</th>\n",
       "    </tr>\n",
       "  </thead>\n",
       "  <tbody>\n",
       "    <tr>\n",
       "      <th>3221</th>\n",
       "      <td>2023-01-19 06:02:22</td>\n",
       "      <td>General</td>\n",
       "      <td>FBPAGE</td>\n",
       "      <td>N/A</td>\n",
       "      <td>20</td>\n",
       "      <td>8</td>\n",
       "      <td>Album</td>\n",
       "      <td>40.0</td>\n",
       "      <td>Thursday</td>\n",
       "      <td>06:02:22</td>\n",
       "      <td>6</td>\n",
       "      <td>(4, 6]</td>\n",
       "    </tr>\n",
       "  </tbody>\n",
       "</table>\n",
       "</div>"
      ],
      "text/plain": [
       "          Published Date   Account Account Type Campaign Name  \\\n",
       "3221 2023-01-19 06:02:22  General        FBPAGE          N/A    \n",
       "\n",
       "      Total Impressions  Total Engagements Media Type  Engagement rate  \\\n",
       "3221                 20                  8      Album             40.0   \n",
       "\n",
       "     Day of Week      Time  Hour Time Group  \n",
       "3221    Thursday  06:02:22     6     (4, 6]  "
      ]
     },
     "execution_count": 27,
     "metadata": {},
     "output_type": "execute_result"
    }
   ],
   "source": [
    "df[df['Media Type'] == 'Album']\n"
   ]
  },
  {
   "cell_type": "code",
   "execution_count": 28,
   "id": "a611808b",
   "metadata": {},
   "outputs": [],
   "source": [
    "#just drop this row\n",
    "df.drop(3221, inplace=True)"
   ]
  },
  {
   "cell_type": "code",
   "execution_count": 29,
   "id": "cd9f67b8",
   "metadata": {},
   "outputs": [
    {
     "data": {
      "image/png": "[encoded data removed]",
      "text/plain": [
       "<Figure size 1152x432 with 1 Axes>"
      ]
     },
     "metadata": {
      "needs_background": "light"
     },
     "output_type": "display_data"
    }
   ],
   "source": [
    "engagement_by_campaign = df.groupby('Media Type')['Total Engagements'].sum()/df.groupby('Media Type')['Total Impressions'].sum()\n",
    "engagement_by_campaign.plot(kind='bar',figsize=(16, 6))\n",
    "\n",
    "plt.xlabel('Media Type')\n",
    "plt.ylabel('Engagement Rate')\n",
    "plt.title('Engagement Rate by Media Type')\n",
    "plt.show()"
   ]
  },
  {
   "cell_type": "markdown",
   "id": "7cf6e010",
   "metadata": {},
   "source": [
    "### Answer 4: <br /> The media type 'album' has the highest performance. But since there is only one valuable data point of the media type 'album', the result could be biased. If we exculde 'album', the media type <span style='color:green'> 'Photo' </span>  now has the best performance. We conclude  <span style='color:green'>the media type 'Photo' </span> has the highest performance."
   ]
  },
  {
   "cell_type": "markdown",
   "id": "f9bea1c4",
   "metadata": {},
   "source": [
    "# Question 5: What is our best performing campaign?"
   ]
  },
  {
   "cell_type": "code",
   "execution_count": 30,
   "id": "1411fad0",
   "metadata": {},
   "outputs": [
    {
     "data": {
      "text/plain": [
       "Community Engagement     1369\n",
       "N/A                       796\n",
       "Evil Exhibited            391\n",
       "Evergreen                 161\n",
       "Name: Campaign Name, dtype: int64"
      ]
     },
     "execution_count": 30,
     "metadata": {},
     "output_type": "execute_result"
    }
   ],
   "source": [
    "df['Campaign Name'].value_counts()"
   ]
  },
  {
   "cell_type": "code",
   "execution_count": 31,
   "id": "15ffc8a1",
   "metadata": {},
   "outputs": [
    {
     "data": {
      "image/png": "[encoded data removed]",
      "text/plain": [
       "<Figure size 1152x432 with 1 Axes>"
      ]
     },
     "metadata": {
      "needs_background": "light"
     },
     "output_type": "display_data"
    }
   ],
   "source": [
    "engagement_by_campaign = df.groupby('Campaign Name')['Total Engagements'].sum()/df.groupby('Campaign Name')['Total Impressions'].sum()\n",
    "engagement_by_campaign.plot(kind='bar',figsize=(16, 6))\n",
    "\n",
    "plt.xlabel('Different Campaign')\n",
    "plt.ylabel('Engagement Rate')\n",
    "plt.title('Engagement Rate by different campaign')\n",
    "plt.show()\n"
   ]
  },
  {
   "cell_type": "markdown",
   "id": "fd84593c",
   "metadata": {},
   "source": [
    "### Answer 5: <br /> From the visulization result, we can see that <span style='color:green'> 'Community Engagement'</span> has the best performance."
   ]
  },
  {
   "cell_type": "code",
   "execution_count": 32,
   "id": "25db1324",
   "metadata": {},
   "outputs": [
    {
     "data": {
      "text/plain": [
       "Photo       1228\n",
       "Video        886\n",
       "Text         548\n",
       "Link          41\n",
       "Carousel       9\n",
       "Mixed          5\n",
       "Name: Media Type, dtype: int64"
      ]
     },
     "execution_count": 32,
     "metadata": {},
     "output_type": "execute_result"
    }
   ],
   "source": [
    "df['Media Type'].value_counts()"
   ]
  },
  {
   "cell_type": "markdown",
   "id": "0b962a89",
   "metadata": {},
   "source": [
    "# Question 6: Define out a posting strategy for our social channels based on your discoveries."
   ]
  },
  {
   "cell_type": "markdown",
   "id": "0983ad12",
   "metadata": {},
   "source": [
    "### Answer 6: <br /> <br /><span style='color:green'>* Timing and Day of Posting:</span> Focus more on Sundays and Tuesdays, as they have the highest and the second highest engagement rates when the engagement rates are calculated by day of the week.<br /> <span style='color:green'>* Game Titles:</span> Prioritize the game title with the highest engagement rate, or if 'General' represents a general category, focus on 'DOTA2' which has the second-highest engagement rate.<br /> <span style='color:green'>* Media Type:</span> Emphasize photo content since it consistently shows high engagement. <br /><span style='color:green'>* Community Engagement: </span> Foster an active community by participating in discussions, responding to comments, and encouraging user interaction.<br /> <br />Above is the optimized posting option for each varaible based on the available historical data. However, to mitigate potential bias, we should continuously monitor performance and conduct A/B tests to explore alternative strategies in response to evolving audience preferences."
   ]
  },
  {
   "cell_type": "markdown",
   "id": "f6e929c0",
   "metadata": {},
   "source": [
    "# Question 7: What suggestions would you give to the social media team if they want to expand their presence (e.g. if our CSGO youtube channel is doing well should we expand to TikTok)?"
   ]
  },
  {
   "cell_type": "markdown",
   "id": "7d6f6f4c",
   "metadata": {},
   "source": [
    "###  Answer 7: <br /><br /> 1. Evaluate Platform Relevance: Assess if the new platform aligns with our target audience and offers an opportunity to reach a larger/different audience. <br /> 2. Analyze Content Fit: Determine if our existing media type can be effectively adapted while maintaining its value and appeal on the new platform. <br /> 3. Research Competitors and Best Practices: Study competitors' performance and best practices on the new platform  if data available.  <br /> 4. Develop a Pilot Plan: Test the new platform's viability and effectiveness through a pilot phase before further investment. <br />5. Continuous Evaluation and Adaptation: Monitor performance, gather feedback, and adjust your posting strategy based on audience preferences and insights gained."
   ]
  },
  {
   "cell_type": "code",
   "execution_count": null,
   "id": "18a8df4e",
   "metadata": {},
   "outputs": [],
   "source": []
  }
 ],
 "metadata": {
  "kernelspec": {
   "display_name": "Python 3",
   "language": "python",
   "name": "python3"
  },
  "language_info": {
   "codemirror_mode": {
    "name": "ipython",
    "version": 3
   },
   "file_extension": ".py",
   "mimetype": "text/x-python",
   "name": "python",
   "nbconvert_exporter": "python",
   "pygments_lexer": "ipython3",
   "version": "3.8.8"
  }
 },
 "nbformat": 4,
 "nbformat_minor": 5
}
